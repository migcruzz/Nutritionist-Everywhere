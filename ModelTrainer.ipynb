{
 "cells": [
  {
   "cell_type": "code",
   "execution_count": null,
   "id": "initial_id",
   "metadata": {
    "collapsed": true
   },
   "outputs": [],
   "source": [
    "!pip install ultralytics --quiet\n",
    "\n",
    "from ultralytics import YOLO\n",
    "from pathlib import Path\n",
    "import torch\n",
    "\n",
    "PLATFORM = \"kaggle\"\n",
    "EXPORT_FORMAT = \"onnx\"\n",
    "\n",
    "BASE_PATH = Path(\"/kaggle/input/food2022\").resolve()\n",
    "YAML_PATH = BASE_PATH / \"food2022.yaml\"\n",
    "MODEL_NAME = \"yolov8n.pt\"\n",
    "RUN_NAME = f\"food2022_yolov8_{PLATFORM}\"\n",
    "\n",
    "EPOCHS = 10\n",
    "BATCH = 32\n",
    "IMGSZ = 640\n",
    "WORKERS = 2\n",
    "\n",
    "def get_device():\n",
    "    if torch.cuda.is_available():\n",
    "        return \"cuda\"\n",
    "    else:\n",
    "        return \"cpu\"\n",
    "\n",
    "def train():\n",
    "    assert YAML_PATH.exists(), f\"YAML file not found: {YAML_PATH}\"\n",
    "    device = get_device()\n",
    "    print(f\"Platform: {PLATFORM.upper()} | Device: {device.upper()}\")\n",
    "    model = YOLO(MODEL_NAME)\n",
    "    model.train(\n",
    "        data=str(YAML_PATH),\n",
    "        epochs=EPOCHS,\n",
    "        imgsz=IMGSZ,\n",
    "        batch=BATCH,\n",
    "        workers=WORKERS,\n",
    "        device=device,\n",
    "        amp=False,\n",
    "        cache=True,\n",
    "        rect=True,\n",
    "        name=RUN_NAME\n",
    "    )\n",
    "    if EXPORT_FORMAT:\n",
    "        model.export(format=EXPORT_FORMAT)\n",
    "        from shutil import copyfile\n",
    "        copyfile(\"yolov8n.onnx\", \"/kaggle/working/yolov8n.onnx\")\n",
    "\n",
    "if __name__ == \"__main__\":\n",
    "    train()"
   ]
  }
 ],
 "metadata": {
  "kernelspec": {
   "display_name": "Python 3",
   "language": "python",
   "name": "python3"
  },
  "language_info": {
   "codemirror_mode": {
    "name": "ipython",
    "version": 2
   },
   "file_extension": ".py",
   "mimetype": "text/x-python",
   "name": "python",
   "nbconvert_exporter": "python",
   "pygments_lexer": "ipython2",
   "version": "2.7.6"
  }
 },
 "nbformat": 4,
 "nbformat_minor": 5
}
